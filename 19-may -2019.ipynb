{
 "cells": [
  {
   "cell_type": "raw",
   "metadata": {},
   "source": [
    "*class Notes \n",
    "sir said, variable names should be noun"
   ]
  },
  {
   "cell_type": "code",
   "execution_count": 1,
   "metadata": {},
   "outputs": [
    {
     "data": {
      "text/plain": [
       "1"
      ]
     },
     "execution_count": 1,
     "metadata": {},
     "output_type": "execute_result"
    }
   ],
   "source": [
    "10 % 3"
   ]
  },
  {
   "cell_type": "code",
   "execution_count": 7,
   "metadata": {},
   "outputs": [
    {
     "name": "stdout",
     "output_type": "stream",
     "text": [
      "mark sam\n",
      "30\n"
     ]
    }
   ],
   "source": [
    "name = \"mark\"\n",
    "name = name + \" sam\"     #concatenation\n",
    "value = 10 \n",
    "value = value + 10 + value\n",
    "\n",
    "print(name)\n",
    "print(value)\n",
    "\n"
   ]
  },
  {
   "cell_type": "code",
   "execution_count": 12,
   "metadata": {},
   "outputs": [
    {
     "data": {
      "text/plain": [
       "6"
      ]
     },
     "execution_count": 12,
     "metadata": {},
     "output_type": "execute_result"
    }
   ],
   "source": [
    "2 % 4 * 3"
   ]
  },
  {
   "cell_type": "code",
   "execution_count": 14,
   "metadata": {},
   "outputs": [
    {
     "name": "stdout",
     "output_type": "stream",
     "text": [
      "The number was  10\n",
      "Its a positive number\n",
      "number is  10\n"
     ]
    }
   ],
   "source": [
    "a = 10\n",
    "b = 2\n",
    "if a > 0 :\n",
    "    print(\"The number was \", a)\n",
    "    print(\"Its a positive number\") #end of if block\n",
    "else:\n",
    "    print(\"Its a negative number\")\n",
    "print(\"number is \",b)"
   ]
  },
  {
   "cell_type": "code",
   "execution_count": 19,
   "metadata": {},
   "outputs": [
    {
     "name": "stdout",
     "output_type": "stream",
     "text": [
      "10\n"
     ]
    }
   ],
   "source": [
    "donut_condition = \"fresh\"\n",
    "donut_price = \"low\"\n",
    "if donut_condition == \"fresh\":\n",
    " buy_score = 10\n",
    "elif donut_price == \"low\":\n",
    " buy_score = 5\n",
    "else:\n",
    " buy_score = 0\n",
    "\n",
    "print(buy_score)"
   ]
  },
  {
   "cell_type": "code",
   "execution_count": 24,
   "metadata": {},
   "outputs": [
    {
     "data": {
      "text/plain": [
       "True"
      ]
     },
     "execution_count": 24,
     "metadata": {},
     "output_type": "execute_result"
    }
   ],
   "source": [
    "age = 20\n",
    "res = \"US\"\n",
    "(age > 65 or age < 21) and res == \"U.K.\"\n",
    "\n"
   ]
  },
  {
   "cell_type": "code",
   "execution_count": 25,
   "metadata": {},
   "outputs": [
    {
     "data": {
      "text/plain": [
       "True"
      ]
     },
     "execution_count": 25,
     "metadata": {},
     "output_type": "execute_result"
    }
   ],
   "source": [
    "age == 20"
   ]
  },
  {
   "cell_type": "code",
   "execution_count": 27,
   "metadata": {},
   "outputs": [
    {
     "name": "stdout",
     "output_type": "stream",
     "text": [
      "Welcome back to Hogwarts, Harry!\n"
     ]
    }
   ],
   "source": [
    "last_name = \"Potter\"\n",
    "\n",
    "if last_name == \"Potter\":\n",
    " # if interest == \"wizardry\"\n",
    "      print(\"Welcome back to Hogwarts, Harry!\")\n",
    "      \n",
    "\n",
    "print(\"new data\")"
   ]
  },
  {
   "cell_type": "code",
   "execution_count": 14,
   "metadata": {},
   "outputs": [
    {
     "name": "stdout",
     "output_type": "stream",
     "text": [
      "name of the city:  Atlanta\n",
      "city is Baltimore:  False\n",
      "name of the city:  Baltimore\n",
      "city is Baltimore:  True\n",
      "name of the city:  Chicago\n",
      "city is Baltimore:  True\n",
      "name of the city:  Denver\n",
      "city is Baltimore:  True\n",
      "name of the city:  Los Angeles\n",
      "city is Baltimore:  False\n",
      "name of the city:  Seattle\n",
      "city is Baltimore:  False\n"
     ]
    }
   ],
   "source": [
    "cities = [\"Atlanta\", \"Baltimore\", \"Chicago\",\"Denver\", \"Los Angeles\", \"Seattle\"]\n",
    "for city in cities:\n",
    "    print(\"name of the city: \", city)\n",
    "    print(\"city is Baltimore: \", city in (\"Baltimore\", \"Chicago\",\"Denver\" ) )\n",
    "    #print(\"city is Baltimore: \", city == \"Baltimore\" or city == \"Chicago\" or city == \"Denver\"  )\n",
    "    "
   ]
  },
  {
   "cell_type": "code",
   "execution_count": 2,
   "metadata": {},
   "outputs": [
    {
     "name": "stdout",
     "output_type": "stream",
     "text": [
      "Welcome to  Denver\n"
     ]
    }
   ],
   "source": [
    "print(\"Welcome to \" , cities[3])"
   ]
  },
  {
   "cell_type": "code",
   "execution_count": 6,
   "metadata": {},
   "outputs": [
    {
     "name": "stdout",
     "output_type": "stream",
     "text": [
      "['Atlanta', 'Baltimore', 'Chicago', 'Denver', 'Los Angeles', 'Seattle', 'New York', 'New York', 'New York', 3.5]\n"
     ]
    }
   ],
   "source": [
    "cities.append(3.5)\n",
    "print(cities)"
   ]
  },
  {
   "cell_type": "code",
   "execution_count": 12,
   "metadata": {},
   "outputs": [
    {
     "data": {
      "text/plain": [
       "'Atlanta'"
      ]
     },
     "execution_count": 12,
     "metadata": {},
     "output_type": "execute_result"
    }
   ],
   "source": [
    "cities = cities + [\"Dubuque\", \"New Orleans\"]\n",
    "cities.insert(3,\"Karachi\")\n",
    "#int(cities)\n",
    "cities[1]"
   ]
  },
  {
   "cell_type": "code",
   "execution_count": 15,
   "metadata": {},
   "outputs": [
    {
     "name": "stdout",
     "output_type": "stream",
     "text": [
      "['Karachi', 'Atlanta', 'Baltimore', 'Karachi', 'Karachi', 'Karachi', 'Chicago', 'Denver', 'Los Angeles', 'Seattle', 'New York', 'New York', 'New York', 3.5, 'Dubuque', 'New Orleans', 'Dubuque', 'New Orleans', 'Dubuque', 'New Orleans', 'Dubuque', 'New Orleans', 'Dubuque', 'New Orleans']\n",
      "['Baltimore', 'Karachi', 'Karachi']\n"
     ]
    }
   ],
   "source": [
    "smaller_list_of_cities = cities[2:5]\n",
    "print(cities)\n",
    "print(smaller_list_of_cities)"
   ]
  },
  {
   "cell_type": "code",
   "execution_count": 27,
   "metadata": {},
   "outputs": [
    {
     "name": "stdout",
     "output_type": "stream",
     "text": [
      "task ['email Frank', 'call Sarah', 'meet with Zach']\n",
      "['email Frank', 'call Sarah']\n"
     ]
    }
   ],
   "source": [
    "tasks = [\"email Frank\", \"call Sarah\", \"meet with Zach\"]\n",
    "#del tasks[1]\n",
    "#tasks.remove(\"call Sarah\")\n",
    "print(\"task\", tasks)\n",
    "tasks.pop(2)\n",
    "#print(\"Lastest finished tasks\",latest_task_accomplished )\n",
    "print(tasks)"
   ]
  },
  {
   "cell_type": "code",
   "execution_count": 29,
   "metadata": {},
   "outputs": [
    {
     "name": "stdout",
     "output_type": "stream",
     "text": [
      "('Delaware', 'Pennsylvania', 'New Jersey', 'Georgia')\n"
     ]
    },
    {
     "data": {
      "text/plain": [
       "'Pennsylvania'"
      ]
     },
     "execution_count": 29,
     "metadata": {},
     "output_type": "execute_result"
    }
   ],
   "source": [
    "states_in_order_of_founding = (\"Delaware\",\"Pennsylvania\", \"New Jersey\", \"Georgia\")\n",
    "print(states_in_order_of_founding)\n",
    "states_in_order_of_founding[1]"
   ]
  },
  {
   "cell_type": "code",
   "execution_count": 52,
   "metadata": {},
   "outputs": [
    {
     "name": "stdout",
     "output_type": "stream",
     "text": [
      "Marks of English is 98\n",
      "Marks of Maths is 75\n",
      "Marks of Physics is 70\n",
      "Marks of 5.6 is 65\n",
      "Marks of Chemistry is 55\n",
      "\n",
      "1.8666666666666665\n",
      "Total marks obtained:  363\n",
      "Grade B\n"
     ]
    }
   ],
   "source": [
    "subjects = (\"English\", \"Maths\", \"Physics\", 5.6, \"Chemistry\", \"Urdu\")\n",
    "marks = (98,75,70,65,55)\n",
    "\n",
    "print(\"Marks of\", subjects[0], \"is\", marks[0])\n",
    "print(\"Marks of\", subjects[1], \"is\", marks[1])\n",
    "print(\"Marks of\", subjects[2], \"is\", marks[2])\n",
    "print(\"Marks of\", subjects[3], \"is\", marks[3])\n",
    "print(\"Marks of\", subjects[4], \"is\", marks[4])\n",
    "print()\n",
    "\n",
    "total_marks_obtained = marks[0] + marks[1] + marks[2] + marks[3] + marks[4]\n",
    "print(subjects[3]/3)\n",
    "print(\"Total marks obtained: \", total_marks_obtained)\n",
    "\n",
    "percentage = total_marks_obtained/500*100\n",
    "\n",
    "if(percentage > 0 and percentage <= 60):\n",
    "    print(\"You are failed\")\n",
    "elif(percentage > 60 and percentage <= 85):\n",
    "    print(\"Grade B\")\n",
    "elif(percentage > 85 and percentage <= 100):\n",
    "    print(\"Grade A\")\n"
   ]
  },
  {
   "cell_type": "code",
   "execution_count": 54,
   "metadata": {},
   "outputs": [
    {
     "name": "stdout",
     "output_type": "stream",
     "text": [
      "city name Cheyenne\n",
      "city name Santa Fe\n",
      "city name Tucson\n",
      "city name Great Falls\n",
      "city name Honolulu\n"
     ]
    }
   ],
   "source": [
    "cleanest_cities = [\"Cheyenne\", \"Santa Fe\", \"Tucson\",\"Great Falls\", \"Honolulu\"]\n",
    "for city in cleanest_cities:\n",
    "    print('city name', city)"
   ]
  },
  {
   "cell_type": "code",
   "execution_count": 29,
   "metadata": {},
   "outputs": [
    {
     "name": "stdout",
     "output_type": "stream",
     "text": [
      "first child name: Ashar Nasir \n",
      "last child name: Sarfaraz Nasir \n",
      "first child name: Ashar Kamran\n",
      "last child name: Sarfaraz Kamran\n",
      "first child name: Ashar Shaikh\n",
      "last child name: Sarfaraz Shaikh\n",
      "first child name: Ashar Qazi\n",
      "last child name: Sarfaraz Qazi\n"
     ]
    }
   ],
   "source": [
    "#mithai kaa daba, 4 gulab jamun, 4 ras gullay, 4 qalaqan, 4 laddu\n",
    "father_names = [\"Nasir \", \"Kamran\", \"Shaikh\", \"Qazi\"]\n",
    "children_names = [\"Ashar\", \"Zaraan\", \"Kashaan\", \"Sarfaraz\"]\n",
    "full_names = []\n",
    "index =0\n",
    "#last  =3\n",
    "for father_name in father_names:\n",
    "    for child_name in children_names:\n",
    "        full_names.append(child_name + \" \" + father_name )\n",
    "  \n",
    "    print(\"first child name:\", full_names[index])\n",
    "    #print(\"last child name:\", full_names[last])\n",
    "    print(\"last child name:\", full_names[-1])\n",
    "    #print(full_names)    \n",
    "    index += 4\n",
    "    #last  += 4\n",
    "#print(full_names)"
   ]
  },
  {
   "cell_type": "code",
   "execution_count": null,
   "metadata": {},
   "outputs": [],
   "source": []
  },
  {
   "cell_type": "code",
   "execution_count": 82,
   "metadata": {},
   "outputs": [
    {
     "name": "stdout",
     "output_type": "stream",
     "text": [
      "Enter your monthly income:100000\n",
      "<class 'int'> 100000\n"
     ]
    }
   ],
   "source": [
    "monthly_income = int ( input(\"Enter your monthly income:\") )\n",
    "#monthly_income = int(monthly_income)\n",
    "print(type(monthly_income), monthly_income)"
   ]
  },
  {
   "cell_type": "code",
   "execution_count": 84,
   "metadata": {},
   "outputs": [
    {
     "name": "stdout",
     "output_type": "stream",
     "text": [
      "Enter your city: karachi\n",
      "karachi KARACHI\n"
     ]
    }
   ],
   "source": [
    "city_to_check = input(\"Enter your city: \")\n",
    "city_to_check = city_to_check.lower()\n",
    "print(city_to_check, city_to_check.upper())"
   ]
  },
  {
   "cell_type": "code",
   "execution_count": 85,
   "metadata": {},
   "outputs": [],
   "source": [
    "tup = (1,2,3)"
   ]
  },
  {
   "cell_type": "code",
   "execution_count": 86,
   "metadata": {},
   "outputs": [
    {
     "data": {
      "text/plain": [
       "tuple"
      ]
     },
     "execution_count": 86,
     "metadata": {},
     "output_type": "execute_result"
    }
   ],
   "source": [
    "type(tup)"
   ]
  },
  {
   "cell_type": "code",
   "execution_count": 87,
   "metadata": {},
   "outputs": [
    {
     "ename": "AttributeError",
     "evalue": "'tuple' object has no attribute 'append'",
     "output_type": "error",
     "traceback": [
      "\u001b[1;31m---------------------------------------------------------------------------\u001b[0m",
      "\u001b[1;31mAttributeError\u001b[0m                            Traceback (most recent call last)",
      "\u001b[1;32m<ipython-input-87-0ee8d39cb05c>\u001b[0m in \u001b[0;36m<module>\u001b[1;34m\u001b[0m\n\u001b[1;32m----> 1\u001b[1;33m \u001b[0mtup\u001b[0m\u001b[1;33m.\u001b[0m\u001b[0mappend\u001b[0m\u001b[1;33m(\u001b[0m\u001b[1;36m4\u001b[0m\u001b[1;33m)\u001b[0m\u001b[1;33m\u001b[0m\u001b[1;33m\u001b[0m\u001b[0m\n\u001b[0m",
      "\u001b[1;31mAttributeError\u001b[0m: 'tuple' object has no attribute 'append'"
     ]
    }
   ],
   "source": [
    "tup.append(4)"
   ]
  },
  {
   "cell_type": "code",
   "execution_count": 88,
   "metadata": {},
   "outputs": [
    {
     "name": "stdout",
     "output_type": "stream",
     "text": [
      "1\n",
      "2\n",
      "3\n"
     ]
    }
   ],
   "source": [
    "tup = (1,2,3)\n",
    "for i in tup:\n",
    "    print(i)"
   ]
  },
  {
   "cell_type": "code",
   "execution_count": 89,
   "metadata": {},
   "outputs": [],
   "source": [
    "lst = [1,2,3]"
   ]
  },
  {
   "cell_type": "code",
   "execution_count": 90,
   "metadata": {},
   "outputs": [
    {
     "data": {
      "text/plain": [
       "list"
      ]
     },
     "execution_count": 90,
     "metadata": {},
     "output_type": "execute_result"
    }
   ],
   "source": [
    "type(lst)"
   ]
  },
  {
   "cell_type": "code",
   "execution_count": 91,
   "metadata": {},
   "outputs": [
    {
     "data": {
      "text/plain": [
       "(1, 2, 3)"
      ]
     },
     "execution_count": 91,
     "metadata": {},
     "output_type": "execute_result"
    }
   ],
   "source": [
    "tuple(lst)"
   ]
  },
  {
   "cell_type": "code",
   "execution_count": 5,
   "metadata": {},
   "outputs": [
    {
     "name": "stdout",
     "output_type": "stream",
     "text": [
      "<class 'tuple'>\n"
     ]
    }
   ],
   "source": [
    "states_in_order_of_founding = (\"Delaware\", \"Pennsylvania\", \"New Jersey\", \"Georgia\")\n",
    "states_in_order_of_founding[2]\n",
    "print( type(states_in_order_of_founding) )"
   ]
  },
  {
   "cell_type": "code",
   "execution_count": 35,
   "metadata": {},
   "outputs": [
    {
     "name": "stdout",
     "output_type": "stream",
     "text": [
      "Enter your name :Adnan\n",
      "Adnan\n"
     ]
    }
   ],
   "source": [
    "name = \"Kamran\"\n",
    "name = input(\"Enter your name :\")\n",
    "print(name)"
   ]
  },
  {
   "cell_type": "code",
   "execution_count": 36,
   "metadata": {},
   "outputs": [
    {
     "name": "stdout",
     "output_type": "stream",
     "text": [
      "Enter first number : 2.1\n",
      "Enter second number : 1.3\n",
      "3.4000000000000004\n"
     ]
    }
   ],
   "source": [
    "number1 = float(input(\"Enter first number : \"))\n",
    "number2 = float(input(\"Enter second number : \"))\n",
    "add1 = number1 + number2\n",
    "print(add1)"
   ]
  },
  {
   "cell_type": "code",
   "execution_count": 46,
   "metadata": {},
   "outputs": [
    {
     "name": "stdout",
     "output_type": "stream",
     "text": [
      "KARACHI\n",
      "karachi\n",
      "Karachi\n",
      "LAHORE\n",
      "lahore\n",
      "Lahore\n",
      "ISLAMABAD\n",
      "islamabad\n",
      "Islamabad\n"
     ]
    }
   ],
   "source": [
    "cleanest_cities = [\"Karachi\" , \"lahore\",\"islamabad\"]\n",
    "for a_clean_city in cleanest_cities:\n",
    "        print(a_clean_city.upper())\n",
    "        print(a_clean_city.lower())\n",
    "        print(a_clean_city.title())\n",
    "        \n",
    "        dfdaswfs\n",
    "        dfdsafsf\n",
    "        dsafdsaf\n",
    "        "
   ]
  },
  {
   "cell_type": "code",
   "execution_count": null,
   "metadata": {},
   "outputs": [],
   "source": []
  }
 ],
 "metadata": {
  "kernelspec": {
   "display_name": "Python 3",
   "language": "python",
   "name": "python3"
  },
  "language_info": {
   "codemirror_mode": {
    "name": "ipython",
    "version": 3
   },
   "file_extension": ".py",
   "mimetype": "text/x-python",
   "name": "python",
   "nbconvert_exporter": "python",
   "pygments_lexer": "ipython3",
   "version": "3.7.3"
  }
 },
 "nbformat": 4,
 "nbformat_minor": 2
}
